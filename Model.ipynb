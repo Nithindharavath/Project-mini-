{
 "cells": [
  {
   "cell_type": "code",
   "execution_count": 1,
   "id": "f8570b2d-2057-4c2e-873c-ac8e73d6ebc2",
   "metadata": {},
   "outputs": [],
   "source": [
    "import pandas as pd\n",
    "import numpy  as np\n",
    "import seaborn as sns\n",
    "import matplotlib.pyplot as plt\n",
    "import pickle as pk"
   ]
  },
  {
   "cell_type": "code",
   "execution_count": 2,
   "id": "59c06838-8afc-4e19-bdf2-d0a99eebce0e",
   "metadata": {},
   "outputs": [],
   "source": [
    "df=pd.read_csv('all_stocks_5yr.csv')"
   ]
  },
  {
   "cell_type": "code",
   "execution_count": 3,
   "id": "da4afce3-c565-4a30-ae45-f5b51ee174f5",
   "metadata": {},
   "outputs": [
    {
     "data": {
      "text/plain": [
       "14.75"
      ]
     },
     "execution_count": 3,
     "metadata": {},
     "output_type": "execute_result"
    }
   ],
   "source": [
    "df1=df['close']\n",
    "df1.iloc[0]"
   ]
  },
  {
   "cell_type": "code",
   "execution_count": 7,
   "id": "eb258449-8b65-42e2-9dd2-61176c97f82c",
   "metadata": {},
   "outputs": [],
   "source": [
    "#Creating Environment Matrix 2x2x3\n",
    "env_rows=2\n",
    "env_cols=2\n",
    "n_action=3\n",
    "\n",
    "q_table=np.zeros((env_rows,env_cols,n_action))\n",
    "np.random.seed()\n",
    "pk.dump(q_table,open(\"pickl.pkl\",'wb'))\n"
   ]
  },
  {
   "cell_type": "code",
   "execution_count": 8,
   "id": "7be08bcd-7ad5-4286-8ed2-da2f0db41366",
   "metadata": {},
   "outputs": [
    {
     "data": {
      "text/plain": [
       "array([[[0., 0., 0.],\n",
       "        [0., 0., 0.]],\n",
       "\n",
       "       [[0., 0., 0.],\n",
       "        [0., 0., 0.]]])"
      ]
     },
     "execution_count": 8,
     "metadata": {},
     "output_type": "execute_result"
    }
   ],
   "source": [
    "pk.load(open(\"pickl.pkl\",'rb'))"
   ]
  },
  {
   "cell_type": "code",
   "execution_count": 9,
   "id": "59769ced-b5cd-4a4a-8550-4ddea22486ad",
   "metadata": {},
   "outputs": [],
   "source": [
    "#Defining Data Preprocessing Function\n",
    "\n",
    "def data_prep(data,name):\n",
    "    df=pd.DataFrame(data[data['Name']==name])\n",
    "    df.dropna(inplace=True)\n",
    "    df.drop(['high','low','volume','Name'],axis=1,inplace=True)\n",
    "    df.reset_index(drop=True,inplace=True)\n",
    "    # Calculating 5 day and 1 day Moving Average for DF\n",
    "    df['5day_MA']=df['close'].rolling(5).mean()\n",
    "    df['1day_MA']=df['close'].rolling(1).mean()\n",
    "    df['5day_MA'][:4]=0\n",
    "    #Splitting into train and Test data\n",
    "    train_df=df[:int(len(df)*0.8)]\n",
    "    test_df=df[int(len(df)*0.8):].reset_index(drop=True)\n",
    "    return train_df,test_df\n",
    "\n",
    "# Get the state for datapoint by Moving Average\n",
    "def get_state(long_ma,short_ma,t):\n",
    "    if short_ma<long_ma:\n",
    "        if t==1:\n",
    "            return (0,1) #Cash\n",
    "        else :\n",
    "            return (0,0) #Stock\n",
    "    \n",
    "    elif short_ma>long_ma:\n",
    "        if t==1:\n",
    "            return (1,1) #Cash\n",
    "        else :\n",
    "            return (1,0) #Stock\n",
    "\n",
    "\n",
    "#Checking if the user can trade or not\n",
    "def trade_t(num_of_stocks,port_value,current_price):\n",
    "    if num_of_stocks>=0:\n",
    "        if port_value>current_price:\n",
    "            return 1\n",
    "        else :return 0\n",
    "    else:\n",
    "        if port_value>current_price:\n",
    "            return 1\n",
    "        else :return 0\n",
    "\n",
    "\n",
    "\n",
    "#Get next action by Epsilon greedy\n",
    "def next_act(state,qtable,epsilon,action=3):\n",
    "    if np.random.rand() < epsilon:\n",
    "        action=np.random.randint(action)\n",
    "    else:\n",
    "        action=np.argmax(qtable[state])\n",
    "        \n",
    "        \n",
    "    return action\n",
    "\n",
    "\n",
    "\n",
    "# Immidiate reward Generator based on cummulative wealth \n",
    "def get_reward(state,action,current_close,past_close,buy_history):\n",
    "    if state==(0,0) or state==(1,0): #Stock position\n",
    "        if action==0:\n",
    "            return -1000\n",
    "        elif action==1:\n",
    "            return (current_close-buy_history)\n",
    "        elif action==2:\n",
    "            return (current_close-past_close)\n",
    "    \n",
    "    elif state==(0,1) or state==(1,1): #Cash Position\n",
    "        if action==0:\n",
    "            return 0\n",
    "        elif action==1:\n",
    "            return -1000\n",
    "        elif action==2:\n",
    "            return (current_close-past_close)\n"
   ]
  },
  {
   "cell_type": "markdown",
   "id": "bc5d219f-ba78-451d-b56e-9f0203a77e1d",
   "metadata": {},
   "source": [
    "Reading and preprocessing the Dataset"
   ]
  },
  {
   "cell_type": "code",
   "execution_count": 10,
   "id": "63b9eabd-ff49-4b64-86d6-5e3f9b7e65be",
   "metadata": {},
   "outputs": [
    {
     "name": "stderr",
     "output_type": "stream",
     "text": [
      "C:\\Users\\saisr\\AppData\\Local\\Temp\\ipykernel_26432\\1330888476.py:11: SettingWithCopyWarning: \n",
      "A value is trying to be set on a copy of a slice from a DataFrame\n",
      "\n",
      "See the caveats in the documentation: https://pandas.pydata.org/pandas-docs/stable/user_guide/indexing.html#returning-a-view-versus-a-copy\n",
      "  df['5day_MA'][:4]=0\n"
     ]
    }
   ],
   "source": [
    "stocks=pd.read_csv('all_stocks_5yr.csv')\n",
    "stocks_train,stocks_test=data_prep(stocks,'AAPL')"
   ]
  },
  {
   "cell_type": "markdown",
   "id": "30ee00fe-85fb-436e-a890-b612e46cefe0",
   "metadata": {},
   "source": [
    "Training the Dataset"
   ]
  },
  {
   "cell_type": "code",
   "execution_count": 12,
   "id": "ab79038e-3250-4cf6-84fc-a0e030095859",
   "metadata": {},
   "outputs": [
    {
     "name": "stdout",
     "output_type": "stream",
     "text": [
      "Training Complete\n"
     ]
    }
   ],
   "source": [
    "episodes=100\n",
    "port_value=1000\n",
    "num_stocks=0\n",
    "epsilon=1 #Epsilon Greedy\n",
    "alpha=0.05 #Learning Rate\n",
    "gamma=0.15 #Discount Factor\n",
    "buy_history=0\n",
    "net_worth=[1000] #Portfolio Value\n",
    "np.random.seed()\n",
    "for i in range(episodes): #Iteration for each episode\n",
    "    port_value=1000\n",
    "    num_stocks=0\n",
    "    buy_history=0\n",
    "    net_worth=[1000]\n",
    "    \n",
    "\n",
    "    for dt in range(len(stocks_train)): #Iteration through each dataset\n",
    "        long_ma=stocks_train.iloc[dt]['5day_MA']\n",
    "        short_ma=stocks_train.iloc[dt]['1day_MA']\n",
    "        close_price=stocks_train.iloc[dt]['close']\n",
    "        next_close=0\n",
    "        \n",
    "        if dt>0:\n",
    "            past_close=stocks_train.iloc[dt-1]['close']\n",
    "        else:\n",
    "            past_close=close_price\n",
    "        t=trade_t(num_stocks,net_worth[-1],close_price)\n",
    "        state=get_state(long_ma,short_ma,t)\n",
    "        action=next_act(state,q_table,epsilon)\n",
    "\n",
    "        if action==0:#Buy\n",
    "            \n",
    "             num_stocks+=1\n",
    "             buy_history=close_price\n",
    "             to_append=net_worth[-1]-close_price\n",
    "             net_worth.append(np.round(to_append,1))\n",
    "             r=0\n",
    "            \n",
    "            \n",
    "        \n",
    "        elif action==1:#Sell\n",
    "            # if num_stocks>0:\n",
    "                num_stocks-=1               \n",
    "                to_append=net_worth[-1]+close_price\n",
    "                net_worth.append(np.round(to_append,1))\n",
    "                # buy_history.pop(0)\n",
    "        \n",
    "        elif action==2:#hold\n",
    "            to_append=net_worth[-1]+close_price\n",
    "            net_worth.append(np.round(to_append,1))\n",
    "            \n",
    "        \n",
    "                \n",
    "         \n",
    "\n",
    "        r=get_reward(state,action,close_price,past_close,buy_history) #Getting Reward\n",
    "        \n",
    "        try:\n",
    "            next_state=get_state(stocks_train.iloc[dt+1]['5day_MA'],stocks_train.iloc[dt+1]['1day_MA'],t)\n",
    "            \n",
    "        except:\n",
    "            break\n",
    "        #Updating Q_table by Bellmen's Equation\n",
    "        q_table[state][action]=(1.-alpha)*q_table[state][action]+alpha*(r+gamma*np.max(q_table[next_state]))\n",
    "    \n",
    "    if (epsilon-0.01)>0.15:\n",
    "        epsilon-=0.01\n",
    "\n",
    "print(\"Training Complete\")"
   ]
  },
  {
   "cell_type": "code",
   "execution_count": 13,
   "id": "d70035e6-dc45-43d0-ae6e-796f98ccff75",
   "metadata": {},
   "outputs": [],
   "source": [
    "pk.dump(q_table,open('pickl.pkl','wb'))"
   ]
  },
  {
   "cell_type": "markdown",
   "id": "6a18336e-568d-4291-9a4c-8e6b30b03925",
   "metadata": {},
   "source": [
    "Tracking the Portfolio Value"
   ]
  },
  {
   "cell_type": "code",
   "execution_count": null,
   "id": "8875e893-9029-4784-961c-c5108ae72bc2",
   "metadata": {},
   "outputs": [],
   "source": []
  },
  {
   "cell_type": "code",
   "execution_count": null,
   "id": "f2ace62f-b8ba-45a3-b88c-9e6a49544cae",
   "metadata": {},
   "outputs": [],
   "source": []
  },
  {
   "cell_type": "markdown",
   "id": "a43a87db-da3a-40ef-9a12-3667881d344f",
   "metadata": {},
   "source": [
    "Testing the Dataset"
   ]
  },
  {
   "cell_type": "code",
   "execution_count": null,
   "id": "3903f3a0-48d6-498e-9327-72008a7cf5f0",
   "metadata": {},
   "outputs": [],
   "source": []
  },
  {
   "cell_type": "code",
   "execution_count": 14,
   "id": "cdb35490-8aac-4d58-9e36-760447fd92c0",
   "metadata": {},
   "outputs": [
    {
     "data": {
      "text/plain": [
       "393"
      ]
     },
     "execution_count": 14,
     "metadata": {},
     "output_type": "execute_result"
    }
   ],
   "source": [
    "num_stocks"
   ]
  },
  {
   "cell_type": "code",
   "execution_count": null,
   "id": "503ae2d3-e7cb-4cab-8059-a37c81004f83",
   "metadata": {},
   "outputs": [],
   "source": []
  },
  {
   "cell_type": "code",
   "execution_count": null,
   "id": "607d5565-209a-446b-87c8-c6fde7adb686",
   "metadata": {},
   "outputs": [],
   "source": []
  }
 ],
 "metadata": {
  "kernelspec": {
   "display_name": "Python 3 (ipykernel)",
   "language": "python",
   "name": "python3"
  },
  "language_info": {
   "codemirror_mode": {
    "name": "ipython",
    "version": 3
   },
   "file_extension": ".py",
   "mimetype": "text/x-python",
   "name": "python",
   "nbconvert_exporter": "python",
   "pygments_lexer": "ipython3",
   "version": "3.11.7"
  }
 },
 "nbformat": 4,
 "nbformat_minor": 5
}
